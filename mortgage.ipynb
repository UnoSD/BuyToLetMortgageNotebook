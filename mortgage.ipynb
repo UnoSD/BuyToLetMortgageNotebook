{
 "cells": [
  {
   "cell_type": "code",
   "execution_count": null,
   "metadata": {
    "dotnet_interactive": {
     "language": "fsharp"
    },
    "polyglot_notebook": {
     "kernelName": "fsharp"
    },
    "vscode": {
     "languageId": "polyglot-notebook"
    }
   },
   "outputs": [],
   "source": [
    "#r \"nuget: Plotly.NET\"\n",
    "#r \"nuget: Plotly.NET.Interactive\"\n",
    "#r \"nuget: FSharp.Data\"\n",
    "\n",
    "open Plotly.NET\n",
    "open FSharp.Data"
   ]
  },
  {
   "cell_type": "code",
   "execution_count": null,
   "metadata": {
    "dotnet_interactive": {
     "language": "fsharp"
    },
    "polyglot_notebook": {
     "kernelName": "fsharp"
    },
    "vscode": {
     "languageId": "polyglot-notebook"
    }
   },
   "outputs": [],
   "source": [
    "let round (amount : decimal) =\n",
    "    Math.Round(amount, 2)\n",
    "    \n",
    "let getMonthlyPaymentsFromMonths (interestRate : decimal) months loan =\n",
    "   float interestRate / 12. / 100.\n",
    "   |> (fun rate -> rate + ( rate / ( Math.Pow(rate + 1., float months) - 1. ) ))\n",
    "   |> decimal\n",
    "   |> fun factor -> loan * factor |> round\n",
    "   \n",
    "let getMonthlyPayments interestRate years loan =\n",
    "   getMonthlyPaymentsFromMonths interestRate (years * 12) loan\n",
    "   \n",
    "let toTable values =\n",
    "    Chart.Table(headerValues = [ \"Description\"; \"Value\"; \"Notes\" ],\n",
    "                cellsValues = values,\n",
    "                CellsMultiAlign = [ StyleParam.HorizontalAlign.Left; StyleParam.HorizontalAlign.Right ])\n",
    "\n",
    "let getLtv loan propertyValue =\n",
    "    loan / propertyValue * 100m |> round\n",
    "    \n",
    "let getMonthlyInterest rate loan =\n",
    "    loan * rate / 100m / 12m\n",
    "    |> round\n",
    "\n",
    "let getInterestMonthSeries interest years loan =\n",
    "    getMonthlyPayments interest years loan\n",
    "    |> (fun monthlyPayment -> List.unfold (function\n",
    "                                           | (_, l) when l <= 0m      -> None\n",
    "                                           | (month, outstandingLoan) -> getMonthlyInterest interest outstandingLoan\n",
    "                                                                         |> (fun interest -> ((month + 1, interest), (month + 1, outstandingLoan - monthlyPayment + interest)))\n",
    "                                                                         |> Some) (0, loan))\n",
    "\n",
    "let getInterestsCost interest mortgageYears loan productYears =\n",
    "    getInterestMonthSeries interest mortgageYears loan\n",
    "    |> List.filter (fst >> (>=)(productYears * 12))\n",
    "    |> List.sumBy snd\n",
    "    \n",
    "let getProductBalanceByInterest monthlyExpenses rent mortgageYears loan productYears interest =\n",
    "    getInterestsCost interest mortgageYears loan productYears\n",
    "    |> (+)(monthlyExpenses * 12m * decimal productYears)\n",
    "    |> (-)(rent * 12m * decimal productYears)"
   ]
  },
  {
   "cell_type": "code",
   "execution_count": null,
   "metadata": {
    "dotnet_interactive": {
     "language": "fsharp"
    },
    "polyglot_notebook": {
     "kernelName": "fsharp"
    },
    "vscode": {
     "languageId": "polyglot-notebook"
    }
   },
   "outputs": [],
   "source": [
    "let getInterestInflectionChart currentInterest (interestData : list<decimal * decimal>) =\n",
    "    let zeroNetInterest =\n",
    "        interestData\n",
    "        |> List.minBy (snd >> Math.Abs)\n",
    "        |> fst\n",
    "\n",
    "    let currentInterestNet =\n",
    "        interestData\n",
    "        |> List.find (fst >> fun interest -> currentInterest = interest)\n",
    "        |> snd\n",
    "\n",
    "    [ interestData\n",
    "      |> List.map (fst >> fun interest -> interest, 0)\n",
    "      |> Chart.Line\n",
    "      |> Chart.withLineStyle (Dash = StyleParam.DrawingStyle.Dot,\n",
    "                              Color = Color.fromKeyword ColorKeyword.Gray,\n",
    "                              Width = 1.)\n",
    "      |> Chart.withTitle \"Net zero\"\n",
    "      \n",
    "      interestData\n",
    "      |> Chart.Line\n",
    "      |> Chart.withTitle \"Interests\"\n",
    "      \n",
    "      [ zeroNetInterest, 0.0m ]\n",
    "      |> Chart.Point\n",
    "      |> Chart.withMarkerStyle (Size = 10, Symbol = StyleParam.MarkerSymbol.Diamond)\n",
    "      |> Chart.withTitle \"Inflection\"\n",
    "      \n",
    "      [ currentInterest, currentInterestNet ]\n",
    "    |> Chart.Point\n",
    "    |> Chart.withMarkerStyle (Size = 10, Symbol = StyleParam.MarkerSymbol.Diamond)\n",
    "    |> Chart.withTitle \"Current\" ]\n",
    "    |> Chart.combine"
   ]
  },
  {
   "attachments": {},
   "cell_type": "markdown",
   "metadata": {},
   "source": [
    "##### Mortgage data\n",
    "\n",
    "| Description       | Amount    |\n",
    "| ----------------- | --------- |\n",
    "| Property value    | 200000.00 |\n",
    "| Loan              | 100000.00 |\n",
    "| Interest          | 5.99      |\n",
    "| Product years     | 29        |\n",
    "| Loan duration     | 30 years  |\n",
    "\n",
    "##### Expenses\n",
    "\n",
    "| Description    | Amount per year code      | Reference year | Notes                                                  |\n",
    "| -------------- | ------------------------- | -------------- | ------------------------------------------------------ |\n",
    "| Service charge | `1000.00m * 2m`           | 2023           | 1000 twice a year                                      |\n",
    "| Ground rent    | `300m`                    | 2023           |                                                        |\n",
    "| Insurance      | `200.00m`                 | 2023           |                                                        |\n",
    "| Agency fees    | `1000m * 12m * 5m / 100m` | 2022           | Agency takes 5% of the annual rent (£1000 * 12mm * 5%) |"
   ]
  },
  {
   "cell_type": "code",
   "execution_count": null,
   "metadata": {
    "dotnet_interactive": {
     "language": "fsharp"
    },
    "polyglot_notebook": {
     "kernelName": "fsharp"
    },
    "vscode": {
     "languageId": "polyglot-notebook"
    }
   },
   "outputs": [],
   "source": [
    "let mortgage =\n",
    "    {| PropertyValue = 200000.00m\n",
    "       Loan          = 100000.00m\n",
    "       Years         = 30\n",
    "       Interest      = 5.99m\n",
    "       ProductYears  = 2 |}\n",
    "\n",
    "let rent =\n",
    "    1000m\n",
    "\n",
    "let expenses = \n",
    "    {| ServiceCharge = 1000.00m * 2m\n",
    "       GroundRent    = 300m\n",
    "       Insurance     = 200.00m\n",
    "       AgencyFees    = rent * 12m * 8m / 100m |}"
   ]
  },
  {
   "cell_type": "code",
   "execution_count": null,
   "metadata": {
    "dotnet_interactive": {
     "language": "fsharp"
    },
    "polyglot_notebook": {
     "kernelName": "fsharp"
    },
    "vscode": {
     "languageId": "polyglot-notebook"
    }
   },
   "outputs": [],
   "source": [
    "let totalExpenses =\n",
    "    (expenses.AgencyFees + expenses.GroundRent + expenses.ServiceCharge + expenses.Insurance) / 12m\n",
    "    |> round\n",
    "\n",
    "let monthlyPayments =\n",
    "    getMonthlyPayments mortgage.Interest mortgage.Years mortgage.Loan\n",
    "\n",
    "let monthlyInterest =\n",
    "    getMonthlyInterest mortgage.Interest mortgage.Loan\n",
    "\n",
    "let netRepayments =\n",
    "    monthlyPayments - monthlyInterest\n",
    "\n",
    "let netGain =\n",
    "    rent - totalExpenses - monthlyInterest\n",
    "\n",
    "let ltv =\n",
    "    getLtv mortgage.Loan mortgage.PropertyValue\n",
    "\n",
    "[ [ \"LTV\"              ; $\"{ltv}\"            ; \"Lower is better\"        ]\n",
    "  [ \"\"                 ; \"\"                  ; \"\"                       ]\n",
    "  [ \"Mortgage payments\"; $\"{monthlyPayments}\"; \"\"                       ]\n",
    "  [ \"Interest\"         ; $\"{monthlyInterest}\"; \"\"                       ]\n",
    "  [ \"Debt deduction\"   ; $\"{netRepayments}\"  ; \"\"                       ]\n",
    "  [ \"\"                 ; \"\"                  ; \"\"                       ]\n",
    "  [ \"Rent\"             ; $\"{rent:f2}\"        ; \"\"                       ]\n",
    "  [ \"Interest\"         ; $\"{monthlyInterest}\"; \"\"                       ]\n",
    "  [ \"Expenses\"         ; $\"{totalExpenses}\"  ; \"Monthly\"                ]\n",
    "  [ \"Net\"              ; $\"{netGain}\"        ; \"Rent-interest-expenses\" ]\n",
    "  [ \"\"                 ; \"\"                  ; \"\"                       ]\n",
    "  [ \"Net yearly\"       ; $\"{netGain * 12m}\"  ; \"Net * 12\"               ] ]\n",
    "|> toTable\n",
    "|> display"
   ]
  },
  {
   "cell_type": "code",
   "execution_count": null,
   "metadata": {
    "dotnet_interactive": {
     "language": "fsharp"
    },
    "polyglot_notebook": {
     "kernelName": "fsharp"
    },
    "vscode": {
     "languageId": "polyglot-notebook"
    }
   },
   "outputs": [],
   "source": [
    "[ 5.50m .. 0.01m .. 11.00m ]\n",
    "|> List.map (fun interest -> interest, getMonthlyInterest interest mortgage.Loan |> (-) (rent - totalExpenses))\n",
    "|> getInterestInflectionChart mortgage.Interest"
   ]
  },
  {
   "cell_type": "code",
   "execution_count": null,
   "metadata": {
    "dotnet_interactive": {
     "language": "fsharp"
    },
    "polyglot_notebook": {
     "kernelName": "fsharp"
    },
    "vscode": {
     "languageId": "polyglot-notebook"
    }
   },
   "outputs": [],
   "source": [
    "getInterestMonthSeries mortgage.Interest mortgage.Years mortgage.Loan\n",
    "|> Chart.Line\n",
    "|> Chart.withTitle \"Interests over time (months elapsed)\""
   ]
  },
  {
   "cell_type": "code",
   "execution_count": null,
   "metadata": {
    "dotnet_interactive": {
     "language": "fsharp"
    },
    "polyglot_notebook": {
     "kernelName": "fsharp"
    },
    "vscode": {
     "languageId": "polyglot-notebook"
    }
   },
   "outputs": [],
   "source": [
    "let totalInterestsCost =\n",
    "    getInterestsCost mortgage.Interest mortgage.Years mortgage.Loan mortgage.ProductYears\n",
    "\n",
    "let expensesDuringProduct =\n",
    "    totalExpenses * 12m * decimal mortgage.ProductYears\n",
    "\n",
    "let totalCost =\n",
    "    totalInterestsCost + expensesDuringProduct\n",
    "    \n",
    "let totalRevenue =\n",
    "    rent * 12m * decimal mortgage.ProductYears\n",
    "\n",
    "let mortgageNet =\n",
    "    totalRevenue - totalCost\n",
    "    \n",
    "[ [ \"Total interests cost\"; $\"{totalInterestsCost}\"   ; \"\"                   ]\n",
    "  [ \"Total expenses\"      ; $\"{expensesDuringProduct}\"; \"\"                   ]\n",
    "  [ \"\"                    ; \"\"                        ; \"\"                   ]\n",
    "  [ \"Total costs\"         ; $\"{totalCost}\"            ; \"Interests+expenses\" ]\n",
    "  [ \"\"                    ; \"\"                        ; \"\"                   ]\n",
    "  [ \"Total revenue\"       ; $\"{totalRevenue}\"         ; \"Rent\"               ]\n",
    "  [ \"\"                    ; \"\"                        ; \"\"                   ]\n",
    "  [ \"Net\"                 ; $\"{mortgageNet}\"          ; \"\"                   ] ]\n",
    "|> toTable\n",
    "|> Chart.withTitle $\"Income and outcome over the {mortgage.ProductYears} years of the mortgage product\"\n"
   ]
  },
  {
   "cell_type": "code",
   "execution_count": null,
   "metadata": {
    "dotnet_interactive": {
     "language": "fsharp"
    },
    "polyglot_notebook": {
     "kernelName": "fsharp"
    },
    "vscode": {
     "languageId": "polyglot-notebook"
    }
   },
   "outputs": [],
   "source": [
    "[ 5.50m .. 0.01m .. 11.00m ]\n",
    "|> List.map (fun interest -> (interest, getProductBalanceByInterest totalExpenses rent mortgage.Years mortgage.Loan mortgage.ProductYears interest))\n",
    "|> getInterestInflectionChart mortgage.Interest"
   ]
  }
 ],
 "metadata": {
  "language_info": {
   "name": "fsharp"
  },
  "orig_nbformat": 4
 },
 "nbformat": 4,
 "nbformat_minor": 2
}
